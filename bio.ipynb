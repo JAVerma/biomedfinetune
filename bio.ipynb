{
 "cells": [
  {
   "cell_type": "code",
   "execution_count": 3,
   "id": "a3cf6e86",
   "metadata": {},
   "outputs": [
    {
     "name": "stderr",
     "output_type": "stream",
     "text": [
      "/home/jayant/miniconda3/envs/jayant/lib/python3.10/site-packages/open_clip/factory.py:129: FutureWarning: You are using `torch.load` with `weights_only=False` (the current default value), which uses the default pickle module implicitly. It is possible to construct malicious pickle data which will execute arbitrary code during unpickling (See https://github.com/pytorch/pytorch/blob/main/SECURITY.md#untrusted-models for more details). In a future release, the default value for `weights_only` will be flipped to `True`. This limits the functions that could be executed during unpickling. Arbitrary objects will no longer be allowed to be loaded via this mode unless they are explicitly allowlisted by the user via `torch.serialization.add_safe_globals`. We recommend you start setting `weights_only=True` for any use case where you don't have full control of the loaded file. Please open an issue on GitHub for any issues related to this experimental feature.\n",
      "  checkpoint = torch.load(checkpoint_path, map_location=map_location)\n"
     ]
    }
   ],
   "source": [
    "import os, torch, torch.nn as nn\n",
    "from torch.utils.data import DataLoader, random_split\n",
    "from torchvision.datasets import ImageFolder\n",
    "from torchvision import transforms\n",
    "from tqdm import tqdm\n",
    "import open_clip\n",
    "\n",
    "# --------------------- CONFIG -------------------------------\n",
    "DATA_DIR      = \"/home/jayant/Desh4/pasted_train\"   # ➜  Desh / non-Desh sub-folders\n",
    "BATCH_SIZE    = 4                                   # ← small batch as requested\n",
    "EPOCHS        = 10\n",
    "LR            = 2e-5\n",
    "DEVICE        = \"cuda\" if torch.cuda.is_available() else \"cpu\"\n",
    "MODEL_ID      = \"hf-hub:microsoft/BioMedCLIP-PubMedBERT_256-vit_base_patch16_224\"\n",
    "NUM_CLASSES   = 2\n",
    "\n",
    "clip_model, _ = open_clip.create_model_from_pretrained(MODEL_ID, device=DEVICE)\n"
   ]
  },
  {
   "cell_type": "code",
   "execution_count": 8,
   "id": "b5222245",
   "metadata": {},
   "outputs": [],
   "source": [
    "vit = clip_model.visual.trunk "
   ]
  },
  {
   "cell_type": "code",
   "execution_count": 10,
   "id": "ccb6c9ed",
   "metadata": {},
   "outputs": [],
   "source": [
    "embed_dim = vit.embed_dim"
   ]
  },
  {
   "cell_type": "code",
   "execution_count": 11,
   "id": "9e8dc93f",
   "metadata": {},
   "outputs": [
    {
     "data": {
      "text/plain": [
       "768"
      ]
     },
     "execution_count": 11,
     "metadata": {},
     "output_type": "execute_result"
    }
   ],
   "source": [
    "embed_dim"
   ]
  },
  {
   "cell_type": "code",
   "execution_count": 12,
   "id": "960d3f80",
   "metadata": {},
   "outputs": [],
   "source": [
    "vit.blocks = vit.blocks[:-1]"
   ]
  },
  {
   "cell_type": "code",
   "execution_count": null,
   "id": "7d6cb2b9",
   "metadata": {},
   "outputs": [],
   "source": [
    "for p in vit.parameters():\n",
    "            p.requires_grad = False\n",
    "        for blk in vit.blocks[-n_train_blocks:]:\n",
    "            for p in blk.parameters():\n",
    "                p.requires_grad = True\n",
    "\n",
    "        # Bilinear pooling & classifier head\n",
    "        self.bilinear   = nn.Bilinear(self.embed_dim, self.embed_dim, self.embed_dim)\n",
    "        self.classifier = nn.Linear(self.embed_dim, num_classes)"
   ]
  }
 ],
 "metadata": {
  "kernelspec": {
   "display_name": "jayant",
   "language": "python",
   "name": "python3"
  },
  "language_info": {
   "codemirror_mode": {
    "name": "ipython",
    "version": 3
   },
   "file_extension": ".py",
   "mimetype": "text/x-python",
   "name": "python",
   "nbconvert_exporter": "python",
   "pygments_lexer": "ipython3",
   "version": "3.10.16"
  }
 },
 "nbformat": 4,
 "nbformat_minor": 5
}
